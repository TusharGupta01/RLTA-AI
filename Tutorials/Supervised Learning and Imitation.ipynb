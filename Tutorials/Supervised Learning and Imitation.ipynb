{
 "cells": [
  {
   "cell_type": "markdown",
   "metadata": {},
   "source": [
    "## Supervised Learning"
   ]
  },
  {
   "cell_type": "markdown",
   "metadata": {},
   "source": [
    "Before getting into Reinforcement Learning, lets see how we handle a Supervised Learning problem."
   ]
  },
  {
   "cell_type": "markdown",
   "metadata": {},
   "source": [
    "<img src=\"img/rl-4.png\" height=\"100\" width=\"500\"/><p style=\"text-align:center\">Fig-1: Example of Convolutional Neural Network Classification</p>"
   ]
  },
  {
   "cell_type": "markdown",
   "metadata": {},
   "source": [
    "In Supervised Learning, we have input variables and the target variable which we want to predict. In our case(Fig-1) we have image of a Tiger and class as the category of the animals. Here our input is pixels of the image and output is label and the network is conditional probability distribution, where condition is the pixel of the image and label is the distribution. \n",
    "\n",
    "Lets denote our input pixels as the observation(o) and target as the action(a), that we will take after looking at obervation(in our case the category of the animal). The model is the policy or a way to parameterize the probability distribution. We will denote our policy as $\\pi_{\\theta}(a|o)$, where $\\theta$ represents the parameters of the policy and $\\pi$ as the distribution over condition (o) and distribution as a."
   ]
  },
  {
   "cell_type": "markdown",
   "metadata": {},
   "source": [
    "To conver this Supervised problem to sequential decision making problem, we need to add something sequential. "
   ]
  },
  {
   "cell_type": "markdown",
   "metadata": {},
   "source": [
    "<img src=\"img/rl-5.png\" height=\"100\" width=\"500\"/><p style=\"text-align:center\">Fig-1: Adding time t to make the problem sequential</p>"
   ]
  },
  {
   "cell_type": "code",
   "execution_count": null,
   "metadata": {},
   "outputs": [],
   "source": []
  }
 ],
 "metadata": {
  "kernelspec": {
   "display_name": "Python 3",
   "language": "python",
   "name": "python3"
  },
  "language_info": {
   "codemirror_mode": {
    "name": "ipython",
    "version": 3
   },
   "file_extension": ".py",
   "mimetype": "text/x-python",
   "name": "python",
   "nbconvert_exporter": "python",
   "pygments_lexer": "ipython3",
   "version": "3.7.1"
  }
 },
 "nbformat": 4,
 "nbformat_minor": 2
}
