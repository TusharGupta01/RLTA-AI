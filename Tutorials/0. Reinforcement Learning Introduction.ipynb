{
 "cells": [
  {
   "cell_type": "markdown",
   "metadata": {},
   "source": [
    "## Reinforcement Learning\n",
    "\n",
    ">Reinforcement - the action or process of reinforcing or strengthening <br/>\n",
    ">Learning - the acquisition of knowledge or skills through study, experience, or being taught"
   ]
  },
  {
   "cell_type": "markdown",
   "metadata": {},
   "source": [
    "While Deep Learning Algorithms such as CNN, RNN, LSTM are responsible for recent breakthroughs in problems like computer vision, machine translation and time series prediction – they can also combine with reinforcement learning algorithms to create something as astounding as [AlphaGo](https://deepmind.com/blog/alphago-zero-learning-scratch/).\n",
    "\n",
    "Reinforcement learning refers to goal-oriented algorithms, where an agent learns by interating with its environment. The agent then gets rewards based on the actions that it has performed, negative rewards for the actions which are not desirable and positive for the correct/desirable actions. Lets take an example, When an infant plays, perform some gestures in order to interact with its environment, it has no explixit teacher but it does have senses which are interacting with environment. Exercising this connection produces a wealth of information about cause and effect, about the consequences of actions, and about what to do in order to achieve goals. And with such interactions which are undoubtedly a major source of knowledge about our environments and ourselves, we try to achive our goals. "
   ]
  },
  {
   "cell_type": "markdown",
   "metadata": {},
   "source": [
    "Reinforcement Learning is combination of various elements:"
   ]
  },
  {
   "cell_type": "markdown",
   "metadata": {},
   "source": [
    "<img src=\"img/rl-1.png\" width=\"500\"/><p style=\"text-align:center\">Fig-1: </p>"
   ]
  },
  {
   "cell_type": "markdown",
   "metadata": {},
   "source": [
    "Reinforcement algorithms that incorporate deep learning can beat world champions at the game of Go as well as human experts playing numerous Atari video games. While that may sound trivial, it’s a vast improvement over their previous accomplishments, and the state of the art is progressing rapidly."
   ]
  },
  {
   "cell_type": "markdown",
   "metadata": {},
   "source": [
    "### Example"
   ]
  },
  {
   "cell_type": "markdown",
   "metadata": {},
   "source": [
    "You have torched up the fireplace in you living room during winters and your baby is playing there."
   ]
  },
  {
   "cell_type": "code",
   "execution_count": null,
   "metadata": {},
   "outputs": [],
   "source": []
  }
 ],
 "metadata": {
  "kernelspec": {
   "display_name": "Python 3",
   "language": "python",
   "name": "python3"
  },
  "language_info": {
   "codemirror_mode": {
    "name": "ipython",
    "version": 3
   },
   "file_extension": ".py",
   "mimetype": "text/x-python",
   "name": "python",
   "nbconvert_exporter": "python",
   "pygments_lexer": "ipython3",
   "version": "3.7.1"
  }
 },
 "nbformat": 4,
 "nbformat_minor": 2
}
